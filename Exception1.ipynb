{
 "cells": [
  {
   "cell_type": "code",
   "execution_count": 1,
   "id": "8688ca9f-d473-408a-a7eb-3c9c6e79d5d3",
   "metadata": {},
   "outputs": [],
   "source": [
    "# An exception in Python is an incident that happens while executing a program that causes the regular course of the program's commands to be disrupted. When a Python code comes across a condition it can't handle, it raises an exception. An object in Python that describes an error is called an exception.\n",
    "# Syntax error refers to an error in the syntax or structure of the code, meaning that the code is not written according to the rules of the programming language. These errors are usually caught by the compiler or interpreter before the code is executed, and they prevent the code from being compiled or run on the otherhand , an exception refers to an error that occurs during the execution of a program. These errors are not caught by the compiler or interpreter and can cause the program to terminate or behave unexpectedly. Exceptions can occur due to a variety of reasons, such as division by zero, trying to access an array element that does not exist, or attempting to open a file that does not exist."
   ]
  },
  {
   "cell_type": "code",
   "execution_count": 3,
   "id": "5b4563b4-6062-4e20-8d91-bf4bffafc82f",
   "metadata": {},
   "outputs": [
    {
     "name": "stdout",
     "output_type": "stream",
     "text": [
      "Error: Division by zero is not allowed.\n",
      "Result: None\n"
     ]
    }
   ],
   "source": [
    "# When an exception is not handled in a program, it typically causes the program to terminate abruptly. This is because the program encounters an unexpected situation that it does not know how to handle, leading to a runtime error.\n",
    "def divide_numbers(a, b):\n",
    "    try:\n",
    "        return a / b\n",
    "    except ZeroDivisionError:\n",
    "        print(\"Error: Division by zero is not allowed.\")\n",
    "        return None\n",
    "\n",
    "result = divide_numbers(10, 0)\n",
    "print(\"Result:\", result)\n",
    "\n"
   ]
  },
  {
   "cell_type": "code",
   "execution_count": 4,
   "id": "75a33127-1f57-4ec9-b7d0-34fab2c8041f",
   "metadata": {},
   "outputs": [
    {
     "name": "stdout",
     "output_type": "stream",
     "text": [
      "Division successful.\n",
      "Execution of the try-except block is complete.\n",
      "5.0\n",
      "Error: Cannot divide by zero. division by zero\n",
      "Execution of the try-except block is complete.\n",
      "None\n",
      "Error: Invalid input types. unsupported operand type(s) for /: 'int' and 'str'\n",
      "Execution of the try-except block is complete.\n",
      "None\n"
     ]
    }
   ],
   "source": [
    "# In Python, the 'try' and 'except' statements are used to catch and handle exceptions. \n",
    "def divide_numbers(a, b):\n",
    "    try:\n",
    "        result = a / b\n",
    "    except ZeroDivisionError as e:\n",
    "        print(f\"Error: Cannot divide by zero. {e}\")\n",
    "        result = None\n",
    "    except TypeError as e:\n",
    "        print(f\"Error: Invalid input types. {e}\")\n",
    "        result = None\n",
    "    else:\n",
    "        print(\"Division successful.\")\n",
    "    finally:\n",
    "        print(\"Execution of the try-except block is complete.\")\n",
    "    \n",
    "    return result\n",
    "\n",
    "# Test cases\n",
    "print(divide_numbers(10, 2))  \n",
    "print(divide_numbers(10, 0)) \n",
    "print(divide_numbers(10, 'a')) "
   ]
  },
  {
   "cell_type": "code",
   "execution_count": 5,
   "id": "5236218b-e4e3-4c1d-8388-b0d5d3b0dedd",
   "metadata": {},
   "outputs": [
    {
     "name": "stdout",
     "output_type": "stream",
     "text": [
      "Division successful.\n",
      "Execution of the try-except block is complete.\n",
      "5.0\n",
      "Error: Cannot divide by zero. division by zero\n",
      "Execution of the try-except block is complete.\n",
      "None\n"
     ]
    }
   ],
   "source": [
    "# Try and Else\n",
    "def safe_divide(a, b):\n",
    "    try:\n",
    "        # Attempt to divide two numbers\n",
    "        result = a / b\n",
    "    except ZeroDivisionError as e:\n",
    "        # Handle division by zero\n",
    "        print(f\"Error: Cannot divide by zero. {e}\")\n",
    "        result = None\n",
    "    else:\n",
    "        # This block runs if no exception was raised\n",
    "        print(\"Division successful.\")\n",
    "    finally:\n",
    "        # This block always runs\n",
    "        print(\"Execution of the try-except block is complete.\")\n",
    "    \n",
    "    return result\n",
    "\n",
    "# Test cases\n",
    "print(safe_divide(10, 2))  \n",
    "print(safe_divide(10, 0)) "
   ]
  },
  {
   "cell_type": "code",
   "execution_count": 6,
   "id": "63842846-1522-4b1c-8df2-473392025af0",
   "metadata": {},
   "outputs": [
    {
     "name": "stdout",
     "output_type": "stream",
     "text": [
      "Error: File not found. [Errno 2] No such file or directory: 'existing_file.txt'\n",
      "Error: File not found. [Errno 2] No such file or directory: 'non_existent_file.txt'\n"
     ]
    }
   ],
   "source": [
    "# Finally\n",
    "# The finally block in Python is used in conjunction with try and except blocks to ensure that certain code runs regardless of whether an exception was raised or not. It’s typically used for cleanup actions, such as closing files, releasing resources, or performing other important tasks that need to be completed regardless of the outcome of the try block.\n",
    "def read_file(file_path):\n",
    "    file = None\n",
    "    try:\n",
    "        # Attempt to open and read a file\n",
    "        file = open(file_path, 'r')\n",
    "        content = file.read()\n",
    "        print(\"File content:\")\n",
    "        print(content)\n",
    "    except FileNotFoundError as e:\n",
    "        # Handle the case where the file does not exist\n",
    "        print(f\"Error: File not found. {e}\")\n",
    "    except IOError as e:\n",
    "        # Handle other I/O related errors\n",
    "        print(f\"Error: I/O error occurred. {e}\")\n",
    "    finally:\n",
    "        # Code that runs regardless of whether an exception was raised or not\n",
    "        if file:\n",
    "            file.close()\n",
    "            print(\"File closed.\")\n",
    "\n",
    "# Test cases\n",
    "read_file(\"existing_file.txt\") \n",
    "read_file(\"non_existent_file.txt\") \n"
   ]
  },
  {
   "cell_type": "code",
   "execution_count": 10,
   "id": "0f7bb081-0a84-40c9-aa27-b72e9bd5754b",
   "metadata": {},
   "outputs": [
    {
     "name": "stdout",
     "output_type": "stream",
     "text": [
      "CustomError caught: Age cannot be negative.\n",
      "ValueError caught: Age must be at least 18.\n",
      "Age is valid.\n"
     ]
    }
   ],
   "source": [
    "# Raise\n",
    "# In Python, the raise statement is used to trigger exceptions manually. It allows you to throw exceptions deliberately when certain conditions are met, which can be useful for implementing custom error handling and managing control flow.\n",
    "class CustomError(Exception):\n",
    "    \"\"\"Custom exception class.\"\"\"\n",
    "    pass\n",
    "\n",
    "def check_age(age):\n",
    "    if age < 0:\n",
    "        raise CustomError(\"Age cannot be negative.\")\n",
    "    elif age < 18:\n",
    "        raise ValueError(\"Age must be at least 18.\")\n",
    "    else:\n",
    "        print(\"Age is valid.\")\n",
    "\n",
    "# Test cases\n",
    "try:\n",
    "    check_age(-1)  # This will raise a CustomError\n",
    "except CustomError as e:\n",
    "    print(\"CustomError caught:\",e)\n",
    "except ValueError as e:\n",
    "    print(\"ValueError caught:\",e)\n",
    "\n",
    "try:\n",
    "    check_age(15)  # This will raise a ValueError\n",
    "except CustomError as e:\n",
    "    print(\"CustomError caught:\",e)\n",
    "except ValueError as e:\n",
    "    print(\"ValueError caught:\",e)\n",
    "\n",
    "try:\n",
    "    check_age(25)  # This will not raise any exception\n",
    "except CustomError as e:\n",
    "    print(\"CustomError caught:\",e)\n",
    "except ValueError as e:\n",
    "    print(\"ValueError caught: \",e)\n"
   ]
  },
  {
   "cell_type": "code",
   "execution_count": 11,
   "id": "3c83b793-9e93-45f9-aeca-423bfa7ab358",
   "metadata": {},
   "outputs": [
    {
     "name": "stdout",
     "output_type": "stream",
     "text": [
      "Name error: Name must be at least 3 characters long.: Jo\n",
      "Finished processing profile.\n",
      "\n",
      "Age error: Age must be between 0 and 120.: 130\n",
      "Finished processing profile.\n",
      "\n",
      "Name error: Name must be at least 3 characters long.: \n",
      "Finished processing profile.\n",
      "\n",
      "User profile is valid.\n",
      "Profile is successfully validated.\n",
      "Finished processing profile.\n",
      "\n"
     ]
    }
   ],
   "source": [
    "# In Python, custom exceptions are user-defined classes that extend the built-in Exception class or its subclasses. Custom exceptions allow you to define specific error conditions relevant to your application and handle them in a controlled manner. They help make your code more readable and manageable by providing meaningful and specific error messages.\n",
    "# Custom exceptions in Python are crucial for creating robust, maintainable, and user-friendly code. They provide a way to handle specific error conditions that are unique to your application or domain. \n",
    "# Define custom exceptions\n",
    "class ValidationError(Exception):\n",
    "    def __init__(self, message=\"Validation error occurred\"):\n",
    "        self.message = message\n",
    "        super().__init__(self.message)\n",
    "\n",
    "class AgeValidationError(ValidationError):\n",
    "    def __init__(self, age, message=\"Age validation failed\"):\n",
    "        self.age = age\n",
    "        self.message = message\n",
    "        super().__init__(f\"{message}: {age}\")\n",
    "\n",
    "class NameValidationError(ValidationError):\n",
    "    def __init__(self, name, message=\"Name validation failed\"):\n",
    "        self.name = name\n",
    "        self.message = message\n",
    "        super().__init__(f\"{message}: {name}\")\n",
    "\n",
    "# Function that uses the custom exceptions\n",
    "def validate_user_profile(name, age):\n",
    "    if not name or len(name) < 3:\n",
    "        raise NameValidationError(name, \"Name must be at least 3 characters long.\")\n",
    "    if age < 0 or age > 120:\n",
    "        raise AgeValidationError(age, \"Age must be between 0 and 120.\")\n",
    "    print(\"User profile is valid.\")\n",
    "\n",
    "# Main code to test the function and handle exceptions\n",
    "def main():\n",
    "    test_profiles = [\n",
    "        {\"name\": \"Jo\", \"age\": 25},  \n",
    "        {\"name\": \"John\", \"age\": 130},\n",
    "        {\"name\": \"\", \"age\": 30},    \n",
    "        {\"name\": \"Alice\", \"age\": 30} \n",
    "    ]\n",
    "    \n",
    "    for profile in test_profiles:\n",
    "        name = profile[\"name\"]\n",
    "        age = profile[\"age\"]\n",
    "        try:\n",
    "            validate_user_profile(name, age)\n",
    "        except NameValidationError as e:\n",
    "            print(\"Name error:\",e)\n",
    "        except AgeValidationError as e:\n",
    "            print(\"Age error:\",e)\n",
    "        except ValidationError as e:\n",
    "            print(\"Validation error:\",e)\n",
    "        else:\n",
    "            print(\"Profile is successfully validated.\")\n",
    "        finally:\n",
    "            print(\"Finished processing profile.\\n\")\n",
    "\n",
    "# Run the main function\n",
    "if __name__ == \"__main__\":\n",
    "    main()\n"
   ]
  },
  {
   "cell_type": "code",
   "execution_count": 12,
   "id": "da915f04-1afc-4ddf-be6e-c042861e074e",
   "metadata": {},
   "outputs": [
    {
     "name": "stdout",
     "output_type": "stream",
     "text": [
      "Result of 10 divided by 2 is 5.0\n",
      "Finished processing this division.\n",
      "\n",
      "CustomDivisionError caught: Cannot divide by zero.\n",
      "Finished processing this division.\n",
      "\n",
      "Result of 5 divided by 1 is 5.0\n",
      "Finished processing this division.\n",
      "\n",
      "CustomDivisionError caught: Cannot divide by zero.\n",
      "Finished processing this division.\n",
      "\n"
     ]
    }
   ],
   "source": [
    "# Define a custom exception class\n",
    "class CustomDivisionError(Exception):\n",
    "    def __init__(self, message=\"Division error occurred\"):\n",
    "        self.message = message\n",
    "        super().__init__(self.message)\n",
    "\n",
    "# Function that uses the custom exception\n",
    "def divide_numbers(numerator, denominator):\n",
    "    if denominator == 0:\n",
    "        raise CustomDivisionError(\"Cannot divide by zero.\")\n",
    "    return numerator / denominator\n",
    "\n",
    "# Main code to test the function and handle the custom exception\n",
    "def main():\n",
    "    test_cases = [\n",
    "        (10, 2),   \n",
    "        (10, 0),   \n",
    "        (5, 1),    \n",
    "        (7, 0)    \n",
    "    ]\n",
    "    \n",
    "    for numerator, denominator in test_cases:\n",
    "        try:\n",
    "            result = divide_numbers(numerator, denominator)\n",
    "        except CustomDivisionError as e:\n",
    "            print(\"CustomDivisionError caught:\",e)\n",
    "        else:\n",
    "           print(\"Result of\", numerator, \"divided by\", denominator, \"is\", result)\n",
    "\n",
    "        finally:\n",
    "            print(\"Finished processing this division.\\n\")\n",
    "\n",
    "# Run the main function\n",
    "if __name__ == \"__main__\":\n",
    "    main()\n"
   ]
  },
  {
   "cell_type": "code",
   "execution_count": null,
   "id": "8d54c296-610a-4426-9711-7f723a0be969",
   "metadata": {},
   "outputs": [],
   "source": []
  }
 ],
 "metadata": {
  "kernelspec": {
   "display_name": "Python 3 (ipykernel)",
   "language": "python",
   "name": "python3"
  },
  "language_info": {
   "codemirror_mode": {
    "name": "ipython",
    "version": 3
   },
   "file_extension": ".py",
   "mimetype": "text/x-python",
   "name": "python",
   "nbconvert_exporter": "python",
   "pygments_lexer": "ipython3",
   "version": "3.11.7"
  }
 },
 "nbformat": 4,
 "nbformat_minor": 5
}
